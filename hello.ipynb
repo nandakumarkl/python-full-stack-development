{
  "nbformat": 4,
  "nbformat_minor": 0,
  "metadata": {
    "colab": {
      "name": "Untitled0.ipynb",
      "provenance": [],
      "authorship_tag": "ABX9TyPYBiYiUDz1gKzzs0P+UR+Y",
      "include_colab_link": true
    },
    "kernelspec": {
      "name": "python3",
      "display_name": "Python 3"
    },
    "language_info": {
      "name": "python"
    }
  },
  "cells": [
    {
      "cell_type": "markdown",
      "metadata": {
        "id": "view-in-github",
        "colab_type": "text"
      },
      "source": [
        "<a href=\"https://colab.research.google.com/github/nandakumarkl/python-full-stack-development/blob/main/hello.ipynb\" target=\"_parent\"><img src=\"https://colab.research.google.com/assets/colab-badge.svg\" alt=\"Open In Colab\"/></a>"
      ]
    },
    {
      "cell_type": "code",
      "execution_count": null,
      "metadata": {
        "colab": {
          "base_uri": "https://localhost:8080/"
        },
        "id": "3kHcieF47mRB",
        "outputId": "15305602-1e25-4da2-8510-c3b6297b57f3"
      },
      "outputs": [
        {
          "output_type": "stream",
          "name": "stdout",
          "text": [
            "{3, 4, 5, 6}\n"
          ]
        }
      ],
      "source": [
        "p={3,4,5,5,6,4}\n",
        "print(p)"
      ]
    },
    {
      "cell_type": "code",
      "source": [
        "emptyset={}\n",
        "print(type(emptyset))"
      ],
      "metadata": {
        "colab": {
          "base_uri": "https://localhost:8080/"
        },
        "id": "DNmbZggS_FU0",
        "outputId": "be2bd7ae-bbbe-47e2-e0b4-fc3d035f0505"
      },
      "execution_count": null,
      "outputs": [
        {
          "output_type": "stream",
          "name": "stdout",
          "text": [
            "<class 'dict'>\n"
          ]
        }
      ]
    },
    {
      "cell_type": "code",
      "source": [
        "emptyset=set()\n",
        "print(type(emptyset))"
      ],
      "metadata": {
        "colab": {
          "base_uri": "https://localhost:8080/"
        },
        "id": "FMlFRVrl_Q34",
        "outputId": "822526e8-0f6e-4b07-d7b0-7d7b1b0f0090"
      },
      "execution_count": null,
      "outputs": [
        {
          "output_type": "stream",
          "name": "stdout",
          "text": [
            "<class 'set'>\n"
          ]
        }
      ]
    },
    {
      "cell_type": "code",
      "source": [
        "list=['a','b','c','i','e','i','o']\n",
        "print(list)"
      ],
      "metadata": {
        "colab": {
          "base_uri": "https://localhost:8080/"
        },
        "id": "9dOUL4VV_ceu",
        "outputId": "3cf7c6d3-6dae-408f-e907-2c924ae70550"
      },
      "execution_count": null,
      "outputs": [
        {
          "output_type": "stream",
          "name": "stdout",
          "text": [
            "['a', 'b', 'c', 'i', 'e', 'i', 'o']\n"
          ]
        }
      ]
    },
    {
      "cell_type": "code",
      "source": [
        "myset=set()\n",
        "print(myset)\n",
        "myset.update([9,12])\n",
        "print(myset)"
      ],
      "metadata": {
        "colab": {
          "base_uri": "https://localhost:8080/"
        },
        "id": "1UcRTFIDDic1",
        "outputId": "5088f6a6-abc7-43e5-a271-1ed1ae4a8db9"
      },
      "execution_count": null,
      "outputs": [
        {
          "output_type": "stream",
          "name": "stdout",
          "text": [
            "set()\n",
            "{9, 12}\n"
          ]
        }
      ]
    },
    {
      "cell_type": "code",
      "source": [
        ""
      ],
      "metadata": {
        "id": "aD6-eeUfLX-P"
      },
      "execution_count": null,
      "outputs": []
    },
    {
      "cell_type": "code",
      "source": [
        "myset=set()\n",
        "print(myset)\n",
        "myset.update([12,46])\n",
        "print(myset)"
      ],
      "metadata": {
        "colab": {
          "base_uri": "https://localhost:8080/"
        },
        "id": "RTbUj6lYEb3D",
        "outputId": "4dabe92f-c995-4f3f-f2b5-c17f67bfedc2"
      },
      "execution_count": null,
      "outputs": [
        {
          "output_type": "stream",
          "name": "stdout",
          "text": [
            "set()\n",
            "{12, 46}\n"
          ]
        }
      ]
    },
    {
      "cell_type": "code",
      "source": [
        "myset=set()\n",
        "print(myset)\n",
        "myset.update([12,46])\n",
        "print(myset)"
      ],
      "metadata": {
        "colab": {
          "base_uri": "https://localhost:8080/"
        },
        "id": "3-2z3y3_JCJm",
        "outputId": "9df2fe14-ac0e-45c7-b0ac-2496cafbf328"
      },
      "execution_count": null,
      "outputs": [
        {
          "output_type": "stream",
          "name": "stdout",
          "text": [
            "set()\n",
            "{12, 46}\n"
          ]
        }
      ]
    },
    {
      "cell_type": "code",
      "source": [
        "u={3,4,6,0,10,'k'}\n",
        "u.remove(10)\n",
        "print(u)"
      ],
      "metadata": {
        "colab": {
          "base_uri": "https://localhost:8080/"
        },
        "id": "V8nla29GK4xI",
        "outputId": "de1d57a2-ead1-445d-a818-2e6fa49c520f"
      },
      "execution_count": null,
      "outputs": [
        {
          "output_type": "stream",
          "name": "stdout",
          "text": [
            "{0, 3, 4, 6, 'k'}\n"
          ]
        }
      ]
    },
    {
      "cell_type": "code",
      "source": [
        "u={3,4,6,0,10,'k'}\n",
        "u.discard('k')\n",
        "print(u)"
      ],
      "metadata": {
        "colab": {
          "base_uri": "https://localhost:8080/"
        },
        "id": "oF-Jv03tKuJn",
        "outputId": "a666a841-e503-4d75-bcf4-19847ef835d2"
      },
      "execution_count": 1,
      "outputs": [
        {
          "output_type": "stream",
          "name": "stdout",
          "text": [
            "{0, 3, 4, 6, 10}\n"
          ]
        }
      ]
    },
    {
      "cell_type": "code",
      "source": [
        "myset=set(\"apple\")\n",
        "print('a'in myset)"
      ],
      "metadata": {
        "colab": {
          "base_uri": "https://localhost:8080/"
        },
        "id": "MgcdYAStHvfS",
        "outputId": "d524b1bb-fd3c-4f50-c10b-48b98f182452"
      },
      "execution_count": 4,
      "outputs": [
        {
          "output_type": "stream",
          "name": "stdout",
          "text": [
            "True\n"
          ]
        }
      ]
    },
    {
      "cell_type": "code",
      "source": [
        "myset=set(\"apple\")\n",
        "print('a'not in myset)"
      ],
      "metadata": {
        "colab": {
          "base_uri": "https://localhost:8080/"
        },
        "id": "5TSsUZadIFNq",
        "outputId": "a77da6fc-801e-406c-a06d-cf8221b98fcb"
      },
      "execution_count": 6,
      "outputs": [
        {
          "output_type": "stream",
          "name": "stdout",
          "text": [
            "False\n"
          ]
        }
      ]
    },
    {
      "cell_type": "code",
      "source": [
        "A={1,2,3,4,5}\n",
        "B={4,5,6,7,8}\n",
        "print('union = ',A|B)\n",
        "print('intersection = ',A&B)\n",
        "print('differance =',A-B)\n",
        "print('symmetric = ',A^B)"
      ],
      "metadata": {
        "colab": {
          "base_uri": "https://localhost:8080/"
        },
        "id": "MAewyIQ3IYnl",
        "outputId": "feb58afb-641c-458e-b386-28917821aa55"
      },
      "execution_count": 8,
      "outputs": [
        {
          "output_type": "stream",
          "name": "stdout",
          "text": [
            "union =  {1, 2, 3, 4, 5, 6, 7, 8}\n",
            "intersection =  {4, 5}\n",
            "differance = {1, 2, 3}\n",
            "symmetric =  {1, 2, 3, 6, 7, 8}\n"
          ]
        }
      ]
    }
  ]
}